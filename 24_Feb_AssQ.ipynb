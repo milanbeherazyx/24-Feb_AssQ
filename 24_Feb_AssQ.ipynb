{
 "cells": [
  {
   "cell_type": "code",
   "execution_count": 2,
   "metadata": {},
   "outputs": [],
   "source": [
    "import warnings\n",
    "warnings.filterwarnings(\"ignore\")\n",
    "\n",
    "import logging\n",
    "logging.basicConfig(filename='24_Feb_AssQ', level=logging.DEBUG)\n",
    "\n",
    "import pandas as pd"
   ]
  },
  {
   "cell_type": "code",
   "execution_count": 3,
   "metadata": {},
   "outputs": [],
   "source": [
    "df = pd.read_csv(r'C:\\Users\\milan\\Documents\\Data Science\\PWskills\\Notes\\Pandas_\\titanic_train.csv')"
   ]
  },
  {
   "attachments": {},
   "cell_type": "markdown",
   "metadata": {},
   "source": [
    "Q1. List any five functions of the pandas library with execution.\n"
   ]
  },
  {
   "cell_type": "code",
   "execution_count": 4,
   "metadata": {},
   "outputs": [
    {
     "name": "stdout",
     "output_type": "stream",
     "text": [
      "<class 'pandas.core.frame.DataFrame'>\n",
      "RangeIndex: 891 entries, 0 to 890\n",
      "Data columns (total 12 columns):\n",
      " #   Column       Non-Null Count  Dtype  \n",
      "---  ------       --------------  -----  \n",
      " 0   PassengerId  891 non-null    int64  \n",
      " 1   Survived     891 non-null    int64  \n",
      " 2   Pclass       891 non-null    int64  \n",
      " 3   Name         891 non-null    object \n",
      " 4   Sex          891 non-null    object \n",
      " 5   Age          714 non-null    float64\n",
      " 6   SibSp        891 non-null    int64  \n",
      " 7   Parch        891 non-null    int64  \n",
      " 8   Ticket       891 non-null    object \n",
      " 9   Fare         891 non-null    float64\n",
      " 10  Cabin        204 non-null    object \n",
      " 11  Embarked     889 non-null    object \n",
      "dtypes: float64(2), int64(5), object(5)\n",
      "memory usage: 83.7+ KB\n"
     ]
    }
   ],
   "source": [
    "# Read the Titanic dataset\n",
    "df = pd.read_csv(r'C:\\Users\\milan\\Documents\\Data Science\\PWskills\\Notes\\Pandas_\\titanic_train.csv')\n",
    "\n",
    "# Display the first 5 rows of the Titanic dataset\n",
    "logging.info(df.head())\n",
    "\n",
    "# Display information about the Titanic dataset\n",
    "logging.info(df.info())\n",
    "\n",
    "# Display summary statistics of the Titanic dataset\n",
    "logging.info(df.describe())\n",
    "\n",
    "# Calculate the survival rate by passenger class in the Titanic dataset\n",
    "logging.info(df.groupby('Pclass')['Survived'].mean())\n"
   ]
  },
  {
   "attachments": {},
   "cell_type": "markdown",
   "metadata": {},
   "source": [
    "Q2. Given a Pandas DataFrame df with columns 'A', 'B', and 'C', write a Python function to re-index the\n",
    "DataFrame with a new index that starts from 1 and increments by 2 for each row."
   ]
  },
  {
   "cell_type": "code",
   "execution_count": 5,
   "metadata": {},
   "outputs": [],
   "source": [
    "def reindex_dataframe(df):\n",
    "    # Get the number of rows in the DataFrame\n",
    "    num_rows = df.shape[0]\n",
    "    \n",
    "    # Create a new index that starts from 1 and increments by 2 for each row\n",
    "    new_index = pd.RangeIndex(start=1, stop=num_rows*2, step=2)\n",
    "    \n",
    "    # Reindex the DataFrame with the new index\n",
    "    new_df = df.reindex(new_index)\n",
    "    \n",
    "    # Return the reindexed DataFrame\n",
    "    return new_df"
   ]
  },
  {
   "cell_type": "code",
   "execution_count": 6,
   "metadata": {},
   "outputs": [],
   "source": [
    "# Create a sample DataFrame\n",
    "df = pd.DataFrame({'A': [1, 2, 3], 'B': [4, 5, 6], 'C': [7, 8, 9]})\n",
    "\n",
    "# Display the original DataFrame\n",
    "logging.info('Original DataFrame:')\n",
    "logging.info(df)\n",
    "\n",
    "# Reindex the DataFrame\n",
    "new_df = reindex_dataframe(df)\n",
    "\n",
    "# Display the reindexed DataFrame\n",
    "logging.info('Reindexed DataFrame:')\n",
    "logging.info(new_df)\n",
    "\n"
   ]
  },
  {
   "attachments": {},
   "cell_type": "markdown",
   "metadata": {},
   "source": [
    "Q3. You have a Pandas DataFrame df with a column named 'Values'. Write a Python function that\n",
    "iterates over the DataFrame and calculates the sum of the first three values in the 'Values' column. The\n",
    "function should print the sum to the console."
   ]
  },
  {
   "cell_type": "code",
   "execution_count": 7,
   "metadata": {},
   "outputs": [],
   "source": [
    "def sum_first_three_values(df):\n",
    "    # Initialize a variable to store the sum\n",
    "    sum_values = 0\n",
    "    \n",
    "    # Iterate over the first three values in the 'Values' column\n",
    "    for value in df['Values'][:3]:\n",
    "        # Add the value to the sum\n",
    "        sum_values += value\n",
    "    \n",
    "    # Print the sum to the console\n",
    "    logging.info(f\"The sum of the first three values in the 'Values' column is {sum_values}\")\n"
   ]
  },
  {
   "cell_type": "code",
   "execution_count": 8,
   "metadata": {},
   "outputs": [],
   "source": [
    "# Create a sample DataFrame\n",
    "df = pd.DataFrame({'Values': [10, 20, 30, 40, 50]})\n",
    "\n",
    "# Call the sum_first_three_values function\n",
    "sum_first_three_values(df)\n"
   ]
  },
  {
   "attachments": {},
   "cell_type": "markdown",
   "metadata": {},
   "source": [
    "Q4. Given a Pandas DataFrame df with a column 'Text', write a Python function to create a new column\n",
    "'Word_Count' that contains the number of words in each row of the 'Text' column."
   ]
  },
  {
   "cell_type": "code",
   "execution_count": 9,
   "metadata": {},
   "outputs": [],
   "source": [
    "def add_word_count_column(df):\n",
    "    # Split the 'Text' column into words\n",
    "    words = df['Text'].str.split()\n",
    "    \n",
    "    # Count the number of words in each row and add it to a new column 'Word_Count'\n",
    "    df['Word_Count'] = words.apply(len)\n",
    "    \n",
    "    # Print the updated DataFrame to the console\n",
    "    logging.info(f\"The DataFrame with a new 'Word_Count' column is:\\n{df}\")"
   ]
  },
  {
   "cell_type": "code",
   "execution_count": 10,
   "metadata": {},
   "outputs": [],
   "source": [
    "# Create a sample DataFrame\n",
    "df = pd.DataFrame({'Text': ['This is a sample text', 'Here is another sample text']})\n",
    "\n",
    "# Call the add_word_count_column function\n",
    "add_word_count_column(df)"
   ]
  },
  {
   "attachments": {},
   "cell_type": "markdown",
   "metadata": {},
   "source": [
    "Q5. How are DataFrame.size() and DataFrame.shape() different?"
   ]
  },
  {
   "cell_type": "code",
   "execution_count": 11,
   "metadata": {},
   "outputs": [],
   "source": [
    "# Create a sample DataFrame\n",
    "df = pd.DataFrame({'A': [1, 2, 3], 'B': [4, 5, 6], 'C': [7, 8, 9]})\n",
    "\n",
    "# Get the size of the DataFrame and log the result\n",
    "size = df.size\n",
    "logging.info(f\"The size of the DataFrame is {size}\") # Output: INFO:The size of the DataFrame is 9\n",
    "\n",
    "# Get the shape of the DataFrame and log the result\n",
    "shape = df.shape\n",
    "logging.info(f\"The shape of the DataFrame is {shape}\") # Output: INFO:The shape of the DataFrame is (3, 3)\n"
   ]
  },
  {
   "attachments": {},
   "cell_type": "markdown",
   "metadata": {},
   "source": [
    "Q6. Which function of pandas do we use to read an excel file?"
   ]
  },
  {
   "cell_type": "code",
   "execution_count": 12,
   "metadata": {},
   "outputs": [],
   "source": [
    "# Read the data from the Excel file and store it in a DataFrame\n",
    "df = pd.read_excel(r'C:\\Users\\milan\\Documents\\Data Science\\PWskills\\Notes\\Pandas_\\LUSID Excel - Setting up your market data.xlsx')\n",
    "\n",
    "# Log the first 5 rows of the DataFrame\n",
    "logging.info(df.head())\n"
   ]
  },
  {
   "attachments": {},
   "cell_type": "markdown",
   "metadata": {},
   "source": [
    "Q7. You have a Pandas DataFrame df that contains a column named 'Email' that contains email\n",
    "addresses in the format 'username@domain.com'. Write a Python function that creates a new column\n",
    "'Username' in df that contains only the username part of each email address.\n",
    "\n",
    "\n",
    "The username is the part of the email address that appears before the '@' symbol. For example, if the\n",
    "email address is 'john.doe@example.com', the 'Username' column should contain 'john.doe'. Your\n",
    "function should extract the username from each email address and store it in the new 'Username'\n",
    "column."
   ]
  },
  {
   "cell_type": "code",
   "execution_count": 13,
   "metadata": {},
   "outputs": [],
   "source": [
    "# Create a sample DataFrame with an 'Email' column\n",
    "df = pd.DataFrame({'Email': ['john.doe@example.com', 'jane.smith@example.com', 'bob.harris@example.com']})\n",
    "\n",
    "# Define a function to extract the username from an email address\n",
    "def extract_username(email):\n",
    "    return email.split('@')[0]\n",
    "\n",
    "# Apply the function to the 'Email' column and store the result in a new 'Username' column\n",
    "df['Username'] = df['Email'].apply(extract_username)\n",
    "\n",
    "# Display the result\n",
    "logging.info(df)"
   ]
  },
  {
   "attachments": {},
   "cell_type": "markdown",
   "metadata": {},
   "source": [
    "Q8. You have a Pandas DataFrame df with columns 'A', 'B', and 'C'. Write a Python function that selects\n",
    "all rows where the value in column 'A' is greater than 5 and the value in column 'B' is less than 10. The\n",
    "function should return a new DataFrame that contains only the selected rows.\n",
    "For example, if df contains the following values:\n",
    "A B C\n",
    "0 3 5 1\n",
    "1 8 2 7\n",
    "2 6 9 4\n",
    "3 2 3 5\n",
    "4 9 1 2\n",
    "\n",
    "\n",
    "\n",
    "Your function should select the following rows: A B C\n",
    "1 8 2 7\n",
    "4 9 1 2\n",
    "The function should return a new DataFrame that contains only the selected rows."
   ]
  },
  {
   "cell_type": "code",
   "execution_count": 14,
   "metadata": {},
   "outputs": [],
   "source": [
    "# Create a sample DataFrame with columns 'A', 'B', and 'C'\n",
    "df = pd.DataFrame({'A': [3, 8, 6, 2, 9],\n",
    "                   'B': [5, 2, 9, 3, 1],\n",
    "                   'C': [1, 7, 4, 5, 2]})\n",
    "\n",
    "# Define a function to select rows based on a condition\n",
    "def select_rows(df):\n",
    "    return df[(df['A'] > 5) & (df['B'] < 10)]\n",
    "\n",
    "# Apply the function to the DataFrame and store the result in a new DataFrame\n",
    "selected_rows = select_rows(df)\n",
    "\n",
    "# Display the selected rows\n",
    "logging.info(selected_rows)"
   ]
  },
  {
   "attachments": {},
   "cell_type": "markdown",
   "metadata": {},
   "source": [
    "Q9. Given a Pandas DataFrame df with a column 'Values', write a Python function to calculate the mean,\n",
    "median, and standard deviation of the values in the 'Values' column."
   ]
  },
  {
   "cell_type": "code",
   "execution_count": 15,
   "metadata": {},
   "outputs": [],
   "source": [
    "def calculate_stats(df):\n",
    "    # Calculate mean\n",
    "    mean = df['Values'].mean()\n",
    "    logging.info(f\"Mean: {mean}\")\n",
    "    \n",
    "    # Calculate median\n",
    "    median = df['Values'].median()\n",
    "    logging.info(f\"Median: {median}\")\n",
    "    \n",
    "    # Calculate standard deviation\n",
    "    std_dev = df['Values'].std()\n",
    "    logging.info(f\"Standard Deviation: {std_dev}\")\n"
   ]
  },
  {
   "attachments": {},
   "cell_type": "markdown",
   "metadata": {},
   "source": [
    "Q10. Given a Pandas DataFrame df with a column 'Sales' and a column 'Date', write a Python function to\n",
    "create a new column 'MovingAverage' that contains the moving average of the sales for the past 7 days\n",
    "for each row in the DataFrame. The moving average should be calculated using a window of size 7 and\n",
    "should include the current day."
   ]
  },
  {
   "cell_type": "code",
   "execution_count": 16,
   "metadata": {},
   "outputs": [],
   "source": [
    "def calculate_moving_average(df):\n",
    "    \"\"\"\n",
    "    Calculates the moving average of the sales for the past 7 days for each row in the DataFrame.\n",
    "    \n",
    "    Args:\n",
    "    df (DataFrame): Pandas DataFrame with columns 'Sales' and 'Date'\n",
    "    \n",
    "    Returns:\n",
    "    DataFrame: A new DataFrame with an additional column 'MovingAverage' containing the moving\n",
    "               average of sales for the past 7 days for each row in the original DataFrame.\n",
    "    \"\"\"\n",
    "    \n",
    "    # Sort the DataFrame by the Date column\n",
    "    df = df.sort_values(by='Date')\n",
    "    \n",
    "    # Create a rolling window of size 7 days and calculate the mean\n",
    "    df['MovingAverage'] = df['Sales'].rolling(window=7, min_periods=1).mean()\n",
    "    \n",
    "    # Return the new DataFrame with the additional column\n",
    "    return df\n",
    "\n",
    "# Create a sample DataFrame\n",
    "df = pd.DataFrame({\n",
    "    'Date': pd.date_range('2023-03-01', '2023-03-31'),\n",
    "    'Sales': [10, 15, 20, 25, 30, 35, 40, 45, 50, 55, 60, 65, 70, 75, 80, 85, 90, 95, 100, 105, 110, 115, 120, 125, 130, 135, 140, 145, 150, 155, 160]\n",
    "})\n",
    "\n",
    "# Call the function to calculate the moving average\n",
    "logging.info(\"Original DataFrame:\\n{}\".format(df))\n",
    "df = calculate_moving_average(df)\n",
    "logging.info(\"DataFrame with MovingAverage column:\\n{}\".format(df))\n"
   ]
  },
  {
   "attachments": {},
   "cell_type": "markdown",
   "metadata": {},
   "source": [
    "Q11. You have a Pandas DataFrame df with a column 'Date'. Write a Python function that creates a new\n",
    "column 'Weekday' in the DataFrame. The 'Weekday' column should contain the weekday name (e.g.\n",
    "Monday, Tuesday) corresponding to each date in the 'Date' column.\n",
    "For example, if df contains the following values:\n",
    "Date\n",
    "0 2023-01-01\n",
    "1 2023-01-02\n",
    "2 2023-01-03\n",
    "3 2023-01-04\n",
    "4 2023-01-05\n",
    "Your function should create the following DataFrame:\n",
    "\n",
    "Date Weekday\n",
    "0 2023-01-01 Sunday\n",
    "1 2023-01-02 Monday\n",
    "2 2023-01-03 Tuesday\n",
    "3 2023-01-04 Wednesday\n",
    "4 2023-01-05 Thursday\n",
    "The function should return the modified DataFrame."
   ]
  },
  {
   "cell_type": "code",
   "execution_count": 17,
   "metadata": {},
   "outputs": [],
   "source": [
    "def add_weekday_column(df):\n",
    "    # Convert date column to datetime type\n",
    "    df['Date'] = pd.to_datetime(df['Date'])\n",
    "    \n",
    "    # Add weekday name column\n",
    "    df['Weekday'] = df['Date'].dt.day_name()\n",
    "    \n",
    "    logging.info(\"Added Weekday column to DataFrame.\")\n",
    "    \n",
    "    return df\n",
    "\n",
    "\n",
    "# Example usage\n",
    "df = pd.DataFrame({'Date': ['2023-01-01', '2023-01-02', '2023-01-03', '2023-01-04', '2023-01-05']})\n",
    "df = add_weekday_column(df)\n",
    "\n",
    "# Print modified DataFrame\n",
    "logging.info(df)\n"
   ]
  },
  {
   "attachments": {},
   "cell_type": "markdown",
   "metadata": {},
   "source": [
    "Q12. Given a Pandas DataFrame df with a column 'Date' that contains timestamps, write a Python\n",
    "function to select all rows where the date is between '2023-01-01' and '2023-01-31'."
   ]
  },
  {
   "cell_type": "code",
   "execution_count": 18,
   "metadata": {},
   "outputs": [],
   "source": [
    "def select_rows(df):\n",
    "    logging.info(f\"Selecting rows between 2023-01-01 and 2023-01-31\")\n",
    "    mask = (df['Date'] >= '2023-01-01') & (df['Date'] <= '2023-01-31')\n",
    "    selected_rows = df.loc[mask]\n",
    "    return selected_rows\n",
    "\n",
    "df = pd.DataFrame({\n",
    "    'Date': pd.date_range(start='2023-01-01', end='2023-02-28'),\n",
    "    'Value': [i for i in range(59)]\n",
    "})\n",
    "\n",
    "selected_rows = select_rows(df)\n",
    "logging.info(selected_rows)\n"
   ]
  },
  {
   "attachments": {},
   "cell_type": "markdown",
   "metadata": {},
   "source": [
    "Q13. To use the basic functions of pandas, what is the first and foremost necessary library that needs to\n",
    "be imported?"
   ]
  },
  {
   "cell_type": "code",
   "execution_count": 19,
   "metadata": {},
   "outputs": [],
   "source": [
    "import pandas as pd"
   ]
  },
  {
   "cell_type": "code",
   "execution_count": 20,
   "metadata": {},
   "outputs": [],
   "source": [
    "logging.shutdown()"
   ]
  }
 ],
 "metadata": {
  "kernelspec": {
   "display_name": "Python 3",
   "language": "python",
   "name": "python3"
  },
  "language_info": {
   "codemirror_mode": {
    "name": "ipython",
    "version": 3
   },
   "file_extension": ".py",
   "mimetype": "text/x-python",
   "name": "python",
   "nbconvert_exporter": "python",
   "pygments_lexer": "ipython3",
   "version": "3.11.2"
  },
  "orig_nbformat": 4,
  "vscode": {
   "interpreter": {
    "hash": "1218a416b76a7b0e74289ea0b56d4577608c97254dcc200d3a096b531a6724e5"
   }
  }
 },
 "nbformat": 4,
 "nbformat_minor": 2
}
